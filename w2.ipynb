{
  "nbformat": 4,
  "nbformat_minor": 0,
  "metadata": {
    "colab": {
      "provenance": [],
      "authorship_tag": "ABX9TyNvc5RiPboe/L0L1ecgSdes",
      "include_colab_link": true
    },
    "kernelspec": {
      "name": "python3",
      "display_name": "Python 3"
    },
    "language_info": {
      "name": "python"
    }
  },
  "cells": [
    {
      "cell_type": "markdown",
      "metadata": {
        "id": "view-in-github",
        "colab_type": "text"
      },
      "source": [
        "<a href=\"https://colab.research.google.com/github/baothai20146117/AI/blob/main/w2.ipynb\" target=\"_parent\"><img src=\"https://colab.research.google.com/assets/colab-badge.svg\" alt=\"Open In Colab\"/></a>"
      ]
    },
    {
      "cell_type": "code",
      "execution_count": null,
      "metadata": {
        "id": "aupkJPSK2nxx"
      },
      "outputs": [],
      "source": [
        "pip install Scikit-Fuzzy\n"
      ]
    },
    {
      "cell_type": "code",
      "source": [
        "import numpy as np\n",
        "import skfuzzy as fuzz\n",
        "\n",
        "\n",
        "x = np.arange(11)\n",
        "#membership function\n",
        "mfx =  fuzz.trimf(x,[0,5,10])\n",
        "x \n",
        "mfx\n",
        "\n",
        "\n",
        "\n"
      ],
      "metadata": {
        "colab": {
          "base_uri": "https://localhost:8080/"
        },
        "id": "qGRrdD1uFUwo",
        "outputId": "b53f0746-7e06-434a-80be-27bab236f637"
      },
      "execution_count": null,
      "outputs": [
        {
          "output_type": "execute_result",
          "data": {
            "text/plain": [
              "array([0. , 0.2, 0.4, 0.6, 0.8, 1. , 0.8, 0.6, 0.4, 0.2, 0. ])"
            ]
          },
          "metadata": {},
          "execution_count": 4
        }
      ]
    },
    {
      "cell_type": "code",
      "source": [
        "import numpy as np\n",
        "import skfuzzy as fuzz\n",
        "import matplotlib.pyplot as plt\n",
        "\n",
        "x = np.arange(30,80,0.1)\n",
        "\n",
        "#trimf : triangle membership function :  vẽ hình tam giác\n",
        "#trapmf(x,[30,30,50,60]) : trapezoid membership function :  vẽ hình thang\n",
        "#gaussmf(x,a,c) : gauss membership function :  vẽ biểu đồ gauss\n",
        "\n",
        "#slow = fuzz.trapmf(x,[30,30,50,60])\n",
        "#medium = fuzz.trapmf(x,[30,50,70,80])\n",
        "#medium_fast = fuzz.trapmf(x,[30,50,60,80])\n",
        "#full_speed = fuzz.trapmf(x,[40,60,80,80])\n",
        "\n",
        "\n",
        "\n",
        "#slow = fuzz.gaussmf(x,30,10)\n",
        "#medium = fuzz.gaussmf(x,50,3)\n",
        "#medium_fast = fuzz.gaussmf(x,60,5)\n",
        "#full_speed = fuzz.gaussmf(x,70,2)\n",
        "\n",
        "slow = fuzz.gbellmf(x,60,7,4)\n",
        "#b :  đọ rộng của đuognwf cong \n",
        "#c : độ dốc\n",
        "#a : tâm \n",
        "\n",
        "\n",
        "\n",
        "\n",
        "\n",
        "plt.figure()\n",
        "\n",
        "#plt.plot(x,full_speed,'b',linewidth=1.5,label='Full Speed')\n",
        "#plt.plot(x,medium_fast,'k',linewidth=1.5,label='Medium Fast')\n",
        "#plt.plot(x,medium,'g',linewidth=1.5,label='Medium')\n",
        "plt.plot(x,slow,'r',linewidth=1.5,label='Slow')\n",
        "\n",
        "\n",
        "\n",
        "\n",
        "\n"
      ],
      "metadata": {
        "id": "xXa0AD5oHrwC"
      },
      "execution_count": null,
      "outputs": []
    },
    {
      "cell_type": "code",
      "source": [
        "import numpy as np\n",
        "import skfuzzy as fuzz\n",
        "import matplotlib.pyplot as plt\n",
        "from skfuzzy import control as ctrl\n",
        "\n",
        "food = ctrl.Antecedent(np.arange(0,11,1),'Food')\n",
        "service = ctrl.Antecedent(np.arange(0,11,1),'Service')\n",
        "tip = ctrl.Consequent(np.arange(10,31,1),'Tip')\n",
        "\n",
        "food['poor'] = fuzz.trimf(food.universe,[0,0,5])\n",
        "food['average'] = fuzz.trimf(food.universe,[0,5,10])\n",
        "food['good'] = fuzz.trimf(food.universe,[5,10,10])\n",
        "\n",
        "service['poor'] = fuzz.trimf(service.universe,[0,0,5])\n",
        "service['average'] = fuzz.trimf(service.universe,[0,5,10])\n",
        "service['good'] = fuzz.trimf(service.universe,[5,10,10])\n",
        "\n",
        "tip['less'] = fuzz.trimf(tip.universe,[10,10,20])\n",
        "tip['normal'] = fuzz.trimf(tip.universe,[10,20,30])\n",
        "tip['much'] = fuzz.trimf(tip.universe,[20,20,30])\n",
        "\n",
        "rule1 = ctrl.Rule(food['poor']&service['poor'],tip['less'] )\n",
        "rule2 = ctrl.Rule(food['poor']&service['average'],tip['less'] )\n",
        "rule3 = ctrl.Rule(food['poor']&service['good'],tip['normal'] )\n",
        "rule4 = ctrl.Rule(food['average']&service['poor'],tip['less'] )\n",
        "rule5 = ctrl.Rule(food['average']&service['average'],tip['normal'] )\n",
        "rule6 = ctrl.Rule(food['average']&service['good'],tip['normal'] )\n",
        "rule7 = ctrl.Rule(food['good']&service['poor'],tip['less'] )\n",
        "rule8 = ctrl.Rule(food['good']&service['average'],tip['normal'] )\n",
        "rule9 = ctrl.Rule(food['good']&service['good'],tip['much'] )\n",
        "\n",
        "tipping_ctrl= ctrl.ControlSystem([rule1,rule2,rule3,rule4,rule5,rule6,rule7,rule8,rule9])\n",
        "tipping= ctrl.ControlSystemSimulation(tipping_ctrl)\n",
        "\n",
        "tipping.input['Food'] = 0\n",
        "tipping.input['Service'] = 0\n",
        "\n",
        "tipping.compute()\n",
        "\n",
        "print(tipping.output['Tip'])\n",
        "tip.view(sum=tipping)\n"
      ],
      "metadata": {
        "colab": {
          "base_uri": "https://localhost:8080/",
          "height": 299
        },
        "id": "5X75FDPxGREW",
        "outputId": "8ba0d855-a15e-4a7f-9188-a2c63a72677b"
      },
      "execution_count": null,
      "outputs": [
        {
          "output_type": "stream",
          "name": "stdout",
          "text": [
            "13.333333333333334\n"
          ]
        },
        {
          "output_type": "display_data",
          "data": {
            "text/plain": [
              "<Figure size 432x288 with 1 Axes>"
            ],
            "image/png": "[encoded data removed]"
          },
          "metadata": {
            "needs_background": "light"
          }
        }
      ]
    },
    {
      "cell_type": "code",
      "source": [],
      "metadata": {
        "id": "Dsg9t18MPMCl"
      },
      "execution_count": null,
      "outputs": []
    }
  ]
}