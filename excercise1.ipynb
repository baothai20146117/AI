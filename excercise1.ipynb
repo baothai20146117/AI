{
  "nbformat": 4,
  "nbformat_minor": 0,
  "metadata": {
    "colab": {
      "provenance": []
    },
    "kernelspec": {
      "name": "python3",
      "display_name": "Python 3"
    },
    "language_info": {
      "name": "python"
    }
  },
  "cells": [
    {
      "cell_type": "code",
      "execution_count": null,
      "metadata": {
        "id": "mLqt-h696pid"
      },
      "outputs": [],
      "source": [
        "import pandas as pd\n",
        "import numpy as np\n",
        "\n",
        "ulr = 'http://winterolympicsmedals.com/medals.csv'\n",
        "\n",
        "\n",
        "dataframe=pd.read_csv(ulr)\n",
        "\n",
        "dataframe[dataframe['Discipline']=='Alpine Skiing']\n",
        "# Alpine Skiing all medals\n",
        "\n",
        "#dataframe[(dataframe['Medal']=='Gold')&(dataframe['Event gender']>='M')&(dataframe['Year']==1924)]\n",
        "#  Man athletes's gold medals in 1924\n",
        "\n",
        "#dataframe[(dataframe['NOC'] == 'USA')&(dataframe['Sport']=='Skating')]\n",
        "#  USA athletes's medals in Skating\n",
        "\n",
        "#dataframe[(dataframe['Event gender'] == 'W')&(dataframe['Event']=='individual')]\n",
        "# Individual woman athletes's medals"
      ]
    }
  ]
}